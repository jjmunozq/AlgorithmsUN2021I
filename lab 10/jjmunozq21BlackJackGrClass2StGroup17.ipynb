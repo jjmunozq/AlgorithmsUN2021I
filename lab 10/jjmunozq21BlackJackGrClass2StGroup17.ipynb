{
  "nbformat": 4,
  "nbformat_minor": 0,
  "metadata": {
    "colab": {
      "name": "jjmunozq21BlackJackGrClass2StGroup17.ipynb",
      "provenance": [],
      "collapsed_sections": []
    },
    "kernelspec": {
      "name": "python3",
      "display_name": "Python 3"
    }
  },
  "cells": [
    {
      "cell_type": "markdown",
      "metadata": {
        "id": "WI4eGNqWi0h5"
      },
      "source": [
        "#Monte Carlo – 21 Blackjack \n",
        "\n",
        "\n",
        "\n",
        "Integrantes:\n",
        "\n",
        "- Julio Javier Muñoz Quiñones\n",
        "- Andrés David Ortega Lobo\n",
        "- David Ernesto Ramirez Arboleda"
      ]
    },
    {
      "cell_type": "code",
      "metadata": {
        "id": "gWYXauBUiyLy"
      },
      "source": [
        "import random as r"
      ],
      "execution_count": 1,
      "outputs": []
    },
    {
      "cell_type": "markdown",
      "metadata": {
        "id": "Ak_aIpXHBlXj"
      },
      "source": [
        "## 1.\n",
        "Estimate the probability of getting a 21, the average number of cards required to complete 21 and plot the experimental distribution of the number of card required to complete 21 drawing cards sequentially from a shuffled Spanish 48-card deck with card values [1,2,3,4,5,6,7,10,11,12,1,2,3,4,5,6,7,8,9,10,11,12,1,2,3,4,5,6,7,8,9,10,11,12,1,2,3,4,5,6,7,8,9,10,11,12] and from a shuffled Poker 52-card with card values [1,2,3,4,5,6,7,8,9,10,11,12,13,1,2,3,4,5,6,7,8,9,10,11,12,13,1,2,3,4,5,6,7,8,9,10,11,12,13,1,2,3,4,5,6,7,8,9,10,11,12,13] using Montecarlo with 10 millions simulations.\n"
      ]
    },
    {
      "cell_type": "code",
      "metadata": {
        "id": "duK5urMdCy7j"
      },
      "source": [
        "# Listas que representas las barajas con las que se juega\n",
        "spanish_card_deck = [1,2,3,4,5,6,7,8,9,10,11,12,1,2,3,4,5,6,7,8,9,10,11,12\n",
        "                ,1,2,3,4,5,6,7,8,9,10,11,12,1,2,3,4,5,6,7,8,9,10,11,12]\n",
        "poker_card_deck = [1,2,3,4,5,6,7,8,9,10,11,12,13,1,2,3,4,5,6,7,8,9,10,11,12,13\n",
        "              ,1,2,3,4,5,6,7,8,9,10,11,12,13,1,2,3,4,5,6,7,8,9,10,11,12,13]"
      ],
      "execution_count": 5,
      "outputs": []
    },
    {
      "cell_type": "code",
      "metadata": {
        "id": "2n87ux0mlJ-A"
      },
      "source": [
        "# función para iterar n numero de veces simulando la seleccion de cartas\n",
        "def blackjack(d, n): # n: numero de manos que se sacan de manera aleatoria, d: tipo de deck\n",
        "  count = 0 # contador de 21s\n",
        "  numeroCartas = [] # lista de cartas en manos con 21\n",
        "\n",
        "  for i in range(n):\n",
        "    deck = list(d)\n",
        "    handCards = []\n",
        "\n",
        "    while (sum(handCards) < 21):\n",
        "      card = r.choice(deck)\n",
        "      handCards.append(card)\n",
        "      deck.remove(card) \n",
        "\n",
        "    if sum(handCards) == 21:\n",
        "      count += 1\n",
        "      numeroCartas.append(len(handCards))\n",
        "\n",
        "  probabilidad_21 = count / n\n",
        "  cartas_promedio = sum(numeroCartas) / len(numeroCartas)\n",
        "\n",
        "  return probabilidad_21 , cartas_promedio, numeroCartas"
      ],
      "execution_count": 6,
      "outputs": []
    },
    {
      "cell_type": "markdown",
      "metadata": {
        "id": "73468MgtngJy"
      },
      "source": [
        "### **Poker**"
      ]
    },
    {
      "cell_type": "code",
      "metadata": {
        "colab": {
          "base_uri": "https://localhost:8080/"
        },
        "id": "i59H4C9Omn0s",
        "outputId": "3992e407-e479-4f28-95ab-6a982fcee170"
      },
      "source": [
        "est21, promCartas, nCartas = blackjack(poker_card_deck, 10000000)# llamada a la función para baraja de poker n = 10'000.000\n",
        "\n",
        "print('Estimación de Probabilidad:', est21)\n",
        "print('Promedio de Cartas en la 21', promCartas)"
      ],
      "execution_count": 7,
      "outputs": [
        {
          "output_type": "stream",
          "text": [
            "Estimación de Probabilidad: 0.1448875\n",
            "Promedio de Cartas en la 21 3.216325079803296\n"
          ],
          "name": "stdout"
        }
      ]
    },
    {
      "cell_type": "markdown",
      "metadata": {
        "id": "60zoM5jatfhO"
      },
      "source": [
        "### **Baraja Española:**"
      ]
    },
    {
      "cell_type": "code",
      "metadata": {
        "colab": {
          "base_uri": "https://localhost:8080/"
        },
        "id": "Gz22FaR0tiO0",
        "outputId": "91da78a5-b26b-4372-b933-c96d662b44f1"
      },
      "source": [
        "est21, promCartas, nCartas = blackjack(spanish_card_deck, 10000000) # llamada a la función para baraja española n = 10'000.000\n",
        "print('Estimación de Probabilidad:', est21)\n",
        "print('Promedio de Cartas en la 21', promCartas)"
      ],
      "execution_count": 8,
      "outputs": [
        {
          "output_type": "stream",
          "text": [
            "Estimación de Probabilidad: 0.1577045\n",
            "Promedio de Cartas en la 21 3.416820699472748\n"
          ],
          "name": "stdout"
        }
      ]
    },
    {
      "cell_type": "markdown",
      "metadata": {
        "id": "yFcJsN26xPAv"
      },
      "source": [
        "## 2. \n",
        "Estimate the probability of getting a 21, the average number of cards required to complete 21 and plot the experimental distribution of the number of card required to complete 21 drawing cards sequentially from a shuffled Spanish 48-card deck with card values [1,2,3,4,5,6,7,10,10,10,1,2,3,4,5,6,7,8,9,10,10,10,1,2,3,4,5,6,7,8,9,10,10,10,1,2,3,4,5,6,7,8,9,10,10,10] and from a shuffled Poker 52-card deck with card values [1,2,3,4,5,6,7,8,9,10,11,12,13,1,2,3,4,5,6,7,8,9,10,10,10,10,1,2,3,4,5,6,7,8,9,10,10,10,10,1,2,3,4,5,6,7,8,9,10,10,10,10] using Montecarlo with 10 millions simulations."
      ]
    },
    {
      "cell_type": "code",
      "metadata": {
        "id": "j8er1kjZxOXg"
      },
      "source": [
        "# nuevas barajas\n",
        "poker_card_deck2 = [1,2,3,4,5,6,7,8,9,10,10,10,10,1,2,3,4,5,6,7,8,9,10,10,10,10,\n",
        "                1,2,3,4,5,6,7,8,9,10,10,10,10,1,2,3,4,5,6,7,8,9,10,10,10,10] \n",
        "spanish_card_deck2 = [1,2,3,4,5,6,7,8,9,10,10,10,1,2,3,4,5,6,7,8,9,10,10,10,\n",
        "                  1,2,3,4,5,6,7,8,9,10,10,10,1,2,3,4,5,6,7,8,9,10,10,10]"
      ],
      "execution_count": 9,
      "outputs": []
    },
    {
      "cell_type": "markdown",
      "metadata": {
        "id": "Q2YE_uQHw83Z"
      },
      "source": [
        "### **Poker**"
      ]
    },
    {
      "cell_type": "code",
      "metadata": {
        "colab": {
          "base_uri": "https://localhost:8080/"
        },
        "id": "mI-UnLT3xiKM",
        "outputId": "6552c3fb-b06d-449f-b5fc-e161216378ab"
      },
      "source": [
        "est21, promCartas, nCartas = blackjack(poker_card_deck2, 10000000)\n",
        "\n",
        "print('Estimación de Probabilidad:', est21)\n",
        "print('Promedio de Cartas en la 21', promCartas)"
      ],
      "execution_count": 11,
      "outputs": [
        {
          "output_type": "stream",
          "text": [
            "Estimación de Probabilidad: 0.1399454\n",
            "Promedio de Cartas en la 21 3.5771736691595435\n"
          ],
          "name": "stdout"
        }
      ]
    },
    {
      "cell_type": "markdown",
      "metadata": {
        "id": "qwI8aA6MzIep"
      },
      "source": [
        "### **Baraja Española**"
      ]
    },
    {
      "cell_type": "code",
      "metadata": {
        "colab": {
          "base_uri": "https://localhost:8080/"
        },
        "id": "Qclq56u9zSLu",
        "outputId": "f7b03495-c53e-4838-e3dd-2714362c2a3d"
      },
      "source": [
        "est21, promCartas, nCartas = blackjack(spanish_card_deck2, 10000000)\n",
        "\n",
        "print('Estimación de Probabilidad:', est21)\n",
        "print('Promedio de Cartas en la 21', promCartas)"
      ],
      "execution_count": 12,
      "outputs": [
        {
          "output_type": "stream",
          "text": [
            "Estimación de Probabilidad: 0.14992\n",
            "Promedio de Cartas en la 21 3.6980763073639276\n"
          ],
          "name": "stdout"
        }
      ]
    },
    {
      "cell_type": "markdown",
      "metadata": {
        "id": "65YlEGCc1vRL"
      },
      "source": [
        "## 3.\n",
        "Estimate the probability of getting a 21, the average total number of cards required to complete 21 and lot the experimental distribution of the number of card required to complete 21; assuming that you have in your hand the cards [7,7,5] and the remaining deck has n/2 cards for the regular Spanish 48-card deck and the Poker 52-card decks. You can pick the n/2 cards in the remaining deck in whatever way you choose but with restriction that this has maximum two 7s and three 5, you have to keep the remaining deck fixed through the Montecarlo simulations, use 10 million simulations."
      ]
    },
    {
      "cell_type": "code",
      "metadata": {
        "id": "U7ClFwJh2au_"
      },
      "source": [
        "spanish_card_deck3 = [2,3,6,8,9,11,1,4,5,10,11,1,2,4,7,9,11,12,1,2,3,5,8,10]\n",
        "poker_card_deck3 = [1,3,4,8,10,11,2,3,4,5,6,8,9,10,11,12,13,2,3,5,8,10,12,2,5,10]"
      ],
      "execution_count": 13,
      "outputs": []
    },
    {
      "cell_type": "code",
      "metadata": {
        "id": "Kw_kLLej-5fh"
      },
      "source": [
        "# función para iterar n numero de veces simulando la seleccion de cartas\n",
        "def blackjack_mod(d, n): # n: numero de manos que se sacan de manera aleatoria, d: tipo de deck\n",
        "  count = 0 # contador de 21s\n",
        "  numeroCartas = [] # lista de cartas en manos con 21\n",
        "\n",
        "  for i in range(n):\n",
        "    deck = list(d)\n",
        "    handCards = [7,7,5] # mano siempre inicia con el valor 7,7,5\n",
        "\n",
        "    while (sum(handCards) < 21):\n",
        "      card = r.choice(deck)\n",
        "      handCards.append(card)\n",
        "      deck.remove(card) \n",
        "\n",
        "    if sum(handCards) == 21:\n",
        "      count += 1\n",
        "      numeroCartas.append(len(handCards))\n",
        "\n",
        "  probabilidad_21 = count / n\n",
        "  cartas_promedio = sum(numeroCartas) / len(numeroCartas)\n",
        "\n",
        "  return probabilidad_21 , cartas_promedio, numeroCartas"
      ],
      "execution_count": 14,
      "outputs": []
    },
    {
      "cell_type": "markdown",
      "metadata": {
        "id": "orvR4DxFA5z6"
      },
      "source": [
        "### **Poker**"
      ]
    },
    {
      "cell_type": "code",
      "metadata": {
        "colab": {
          "base_uri": "https://localhost:8080/"
        },
        "id": "LQsCDxGJ5GEi",
        "outputId": "f420505d-fe54-4ab0-9965-983d8cc73ce4"
      },
      "source": [
        "est21, promCartas, nCartas = blackjack_mod(poker_card_deck3, 10000000)\n",
        "print('Estimación de Probabilidad:', est21)\n",
        "print('Promedio de Cartas en la 21', promCartas)"
      ],
      "execution_count": 15,
      "outputs": [
        {
          "output_type": "stream",
          "text": [
            "Estimación de Probabilidad: 0.1154219\n",
            "Promedio de Cartas en la 21 4.0\n"
          ],
          "name": "stdout"
        }
      ]
    },
    {
      "cell_type": "markdown",
      "metadata": {
        "id": "Tnkln8QEBFoZ"
      },
      "source": [
        "### **Baraja Española**"
      ]
    },
    {
      "cell_type": "code",
      "metadata": {
        "colab": {
          "base_uri": "https://localhost:8080/"
        },
        "id": "7_2uJvfz5RTF",
        "outputId": "d3b1d15a-af51-4a2b-bd77-9ede08a820da"
      },
      "source": [
        "est21, promCartas, nCartas = blackjack_mod(spanish_card_deck3, 10000000)\n",
        "print('Estimación de Probabilidad:', est21)\n",
        "print('Promedio de Cartas en la 21', promCartas)"
      ],
      "execution_count": 16,
      "outputs": [
        {
          "output_type": "stream",
          "text": [
            "Estimación de Probabilidad: 0.1359075\n",
            "Promedio de Cartas en la 21 4.080363482515682\n"
          ],
          "name": "stdout"
        }
      ]
    },
    {
      "cell_type": "markdown",
      "metadata": {
        "id": "HksFHdhf5rQC"
      },
      "source": [
        "## 4.\n",
        "Estimate and calculate analytically the probability of getting a 21, the average total number of cards required to complete 21 and the experimental distribution of the number of card required to complete 21; assuming that you have in your hand the cards [7,7,5] and the remaining deck has two possible sets of 8 cards for the regular Spanish 48-card deck and the Poker 52-card decks. The two possible remaining decks are a (hot deck) that contains four 1 cards and four 2 cards a (cold deck) with not 1 or 2 cards, for the estimations use Montecarlo with 10 million simulations."
      ]
    },
    {
      "cell_type": "code",
      "metadata": {
        "id": "NCdmQeWZBosh"
      },
      "source": [
        "# función para iterar n numero de veces simulando la seleccion de cartas\n",
        "def blackjack_mod_hotcold(hot_deck, cold_deck, n): # n: numero de manos que se sacan de manera aleatoria, tipo de deck\n",
        "  count = 0 # contador de 21s\n",
        "  numeroCartas = [] # lista de cartas en manos con 21\n",
        "\n",
        "  for i in range(n):\n",
        "    # seleccionar entre las dos posibilidades de baraja para jugar\n",
        "    selecdeck = r.randint(0,1)\n",
        "    if selecdeck:\n",
        "      deck = list(hot_deck)\n",
        "    else:\n",
        "      deck = list(cold_deck)\n",
        "\n",
        "    handCards = [7,7,5] # mano  inicia con el valor 7,7,5\n",
        "\n",
        "    while (sum(handCards) < 21):\n",
        "      card = r.choice(deck)\n",
        "      handCards.append(card)\n",
        "      deck.remove(card) \n",
        "\n",
        "    if sum(handCards) == 21:\n",
        "      count += 1\n",
        "      numeroCartas.append(len(handCards))\n",
        "\n",
        "  probabilidad_21 = count / n\n",
        "  cartas_promedio = sum(numeroCartas) / len(numeroCartas)\n",
        "\n",
        "  return probabilidad_21 , cartas_promedio, numeroCartas"
      ],
      "execution_count": 17,
      "outputs": []
    },
    {
      "cell_type": "code",
      "metadata": {
        "colab": {
          "base_uri": "https://localhost:8080/"
        },
        "id": "3V2xm2CWCWAe",
        "outputId": "0d6742d3-a7b5-4848-82d9-416b7c990ccf"
      },
      "source": [
        "hot_deck = [1,1,1,1,2,2,2,2]\n",
        "cold_deck = [10,3,4,10,13,11,8,9]\n",
        "\n",
        "est21, promCartas, nCartas = blackjack_mod_hotcold(hot_deck, cold_deck, 10000000)\n",
        "print('Estimación de Probabilidad:', est21)\n",
        "print('Promedio de Cartas en la 21', promCartas)"
      ],
      "execution_count": 18,
      "outputs": [
        {
          "output_type": "stream",
          "text": [
            "Estimación de Probabilidad: 0.357189\n",
            "Promedio de Cartas en la 21 4.299830901847481\n"
          ],
          "name": "stdout"
        }
      ]
    },
    {
      "cell_type": "markdown",
      "metadata": {
        "id": "zSM2cBpnAsyF"
      },
      "source": [
        "## 5.\n",
        "Estimate the average amount of money (expected value) that Ben wins or losses on a weekend if Ben goes to Vegas every weekend (Friday, Saturday and Sunday), plays every weekend day 10 hours, each game takes 3 mins. Assume that for each game he gets two possibilities, in one he gets in his hand the cards [7,7,5] and a remaining hot deck with 8 cards in which case he bets (1000USD) this happens with probability (1/10); in the other one he gets no cards in his hand a complete shuffled deck in which case he bets 10USD, this happens with the remaining probability (9/10). Use 10000 Montecarlo simulations to estimated the expected amount of money that Ben wins or losses on a weekend for the Spanish 48-card deck and for a Poker 52-card deck.\n",
        "\n"
      ]
    },
    {
      "cell_type": "code",
      "metadata": {
        "id": "8evzDJRSC4En"
      },
      "source": [
        "def ganancias(d):\n",
        "  N = 10000 # numero de simulaciones\n",
        "  n = 600 # numero de juegos en un fin de semana\n",
        "  \n",
        "  count = 0 # contador de 21s\n",
        "  numeroCartas = [] # lista de cartas en manos con 21\n",
        "\n",
        "  apuesta = 0 # dinero apostado\n",
        "  ganancias_acumuladas = 0\n",
        "  ganancias = list()\n",
        "  p21 = list()\n",
        "\n",
        "  juegos_posibles = [1,0,0,0,0,0,0,0,0,0] # (1 de 10)\n",
        "\n",
        "  # loop principal\n",
        "  for i in range(N):\n",
        "    # loop de juegos en un fin de semana\n",
        "    count = 0\n",
        "    for game in range(n):\n",
        "      c = r.choice(juegos_posibles)\n",
        "      ganancias_acumuladas = 0      \n",
        "      if c:\n",
        "        #hot Game\n",
        "        handCards = [7, 7, 5]  # mano inicia con el valor [7,7,5]\n",
        "        deck = [1,1,1,1,2,2,2,2]\n",
        "        apuesta = 1000\n",
        "      else:\n",
        "        #Cold Gamee\n",
        "        handCards = []\n",
        "        deck = list(d)\n",
        "        apuesta = 10\n",
        "      \n",
        "      while (sum(handCards) < 21): # solicita cartas hasta pasar 20\n",
        "        card = r.choice(deck)\n",
        "        handCards.append(card)\n",
        "        deck.remove(card)\n",
        "     \n",
        "      if sum(handCards) == 21:  # identifica manos ganadoras\n",
        "        count += 1\n",
        "        numeroCartas.append(len(handCards))\n",
        "        ganancias_acumuladas = ganancias_acumuladas + apuesta\n",
        "      else:\n",
        "        ganancias_acumuladas = ganancias_acumuladas - apuesta\n",
        "\n",
        "    ganancias. append(ganancias_acumuladas)\n",
        "    probabilidad_21 = count / n\n",
        "    p21.append(probabilidad_21)\n",
        "    sum21 =(sum(p21) / len(p21))\n",
        "\n",
        "    cartas_promedio = sum(numeroCartas) / len(numeroCartas)\n",
        "  \n",
        "  \n",
        "  return ganancias,sum21, cartas_promedio, numeroCartas"
      ],
      "execution_count": 19,
      "outputs": []
    },
    {
      "cell_type": "markdown",
      "metadata": {
        "id": "Jw5CRzXdzdKC"
      },
      "source": [
        "##Poker"
      ]
    },
    {
      "cell_type": "code",
      "metadata": {
        "colab": {
          "base_uri": "https://localhost:8080/"
        },
        "id": "CAIx96kY2djt",
        "outputId": "8121c922-93f4-48cc-d07c-27c71998bc38"
      },
      "source": [
        "myprofit,prob21,promCartas, nCartas = ganancias(poker_card_deck)\n",
        "print('Ganancias promedio:', sum(myprofit) / len(myprofit))\n",
        "print('probabilidad de obtener 21:',(prob21) )"
      ],
      "execution_count": 20,
      "outputs": [
        {
          "output_type": "stream",
          "text": [
            "Ganancias promedio: 32.655\n",
            "probabilidad de obtener 21: 0.20165699999999898\n"
          ],
          "name": "stdout"
        }
      ]
    },
    {
      "cell_type": "markdown",
      "metadata": {
        "id": "Gu12rslPMLZ5"
      },
      "source": [
        "### **Baraja Española**"
      ]
    },
    {
      "cell_type": "code",
      "metadata": {
        "colab": {
          "base_uri": "https://localhost:8080/"
        },
        "id": "vX3wEQ7aMFyB",
        "outputId": "dc63da8c-f130-45e3-e543-bd419880e7f0"
      },
      "source": [
        "myprofit,prob21,promCartas, nCartas = ganancias(spanish_card_deck)\n",
        "print('Ganancias promedio:', sum(myprofit) / len(myprofit))\n",
        "print('probabilidad de obtener 21:',(prob21) )"
      ],
      "execution_count": 21,
      "outputs": [
        {
          "output_type": "stream",
          "text": [
            "Ganancias promedio: 37.322\n",
            "probabilidad de obtener 21: 0.21337583333332777\n"
          ],
          "name": "stdout"
        }
      ]
    }
  ]
}