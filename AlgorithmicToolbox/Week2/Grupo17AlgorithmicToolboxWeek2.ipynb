{
  "nbformat": 4,
  "nbformat_minor": 0,
  "metadata": {
    "colab": {
      "name": "Grupo17AlgorithmicToolboxWeek2.ipynb",
      "provenance": [],
      "collapsed_sections": []
    },
    "kernelspec": {
      "name": "python3",
      "display_name": "Python 3"
    },
    "language_info": {
      "name": "python"
    }
  },
  "cells": [
    {
      "cell_type": "markdown",
      "metadata": {
        "id": "Qk1sYn5PSj3c"
      },
      "source": [
        "#Week 2: Algorithmic Warm up\n",
        "\n",
        "Integrantes:\n",
        "\n",
        "- Julio Javier Muñoz Quiñones\n",
        "- Andrés David Ortega Lobo\n",
        "- David Ernesto Ramirez Arboleda"
      ]
    },
    {
      "cell_type": "markdown",
      "metadata": {
        "id": "xmHQ7Fhrt1nu"
      },
      "source": [
        "##Least Common Multiple"
      ]
    },
    {
      "cell_type": "code",
      "metadata": {
        "colab": {
          "base_uri": "https://localhost:8080/"
        },
        "id": "Bq1H1eaDuApt",
        "outputId": "d3b4359d-6851-44ca-f95b-250f3b17e112"
      },
      "source": [
        "%%writefile LCM.cpp\n",
        "\n",
        "#include <iostream>\n",
        "using namespace std;\n",
        "\n",
        "int gcd_naive(int a, int b) {\n",
        "\n",
        "  for (int d = min(a,b); d >= 1; d--) {\n",
        "    if (a % d == 0 && b % d == 0) {\n",
        "       return(d);\n",
        "      }\n",
        "    }\n",
        "    return(1);\n",
        "  }\n",
        "\n",
        "int main() {\n",
        "  long long int a, b,maxi,mini,i=0;\n",
        "  std::cin >> a >> b;\n",
        "  maxi=max(a,b);\n",
        "  mini=min(a,b);\n",
        "  if(maxi% mini==0){cout<<maxi;}\n",
        "  else{a=maxi;\n",
        "\n",
        "      while(a%mini!=0){a=a+maxi;}\n",
        "      cout<<a;\n",
        "      \n",
        "  }\n",
        "  return 0;\n",
        "}"
      ],
      "execution_count": 1,
      "outputs": [
        {
          "output_type": "stream",
          "text": [
            "Writing LCM.cpp\n"
          ],
          "name": "stdout"
        }
      ]
    },
    {
      "cell_type": "code",
      "metadata": {
        "colab": {
          "base_uri": "https://localhost:8080/"
        },
        "id": "gaBl-YEQuNFn",
        "outputId": "58a9d9e7-2fd3-4d87-b9fe-309e84224a0f"
      },
      "source": [
        "!g++ LCM.cpp -o LCM\n",
        "!./LCM"
      ],
      "execution_count": 2,
      "outputs": [
        {
          "output_type": "stream",
          "text": [
            "6\n",
            "8\n",
            "24"
          ],
          "name": "stdout"
        }
      ]
    },
    {
      "cell_type": "code",
      "metadata": {
        "colab": {
          "base_uri": "https://localhost:8080/"
        },
        "id": "bUhpqiZ3ueDA",
        "outputId": "3cea27d8-9ea2-4f51-ee78-866f09ca865f"
      },
      "source": [
        "!g++ LCM.cpp -o LCM\n",
        "!./LCM"
      ],
      "execution_count": 3,
      "outputs": [
        {
          "output_type": "stream",
          "text": [
            "9\n",
            "12\n",
            "36"
          ],
          "name": "stdout"
        }
      ]
    },
    {
      "cell_type": "markdown",
      "metadata": {
        "id": "NCRX2UzQu0oj"
      },
      "source": [
        "## Last Digit of a Large Fibonacci Number"
      ]
    },
    {
      "cell_type": "code",
      "metadata": {
        "colab": {
          "base_uri": "https://localhost:8080/"
        },
        "id": "8YZ8hFz5u5R2",
        "outputId": "64822da1-8f51-4715-81eb-52315ca77926"
      },
      "source": [
        "%%writefile LDLFN.cpp\n",
        "\n",
        "#include <iostream>\n",
        "\n",
        "using namespace std;\n",
        "\n",
        "int grr(int n) {\n",
        "    if (n <= 1)\n",
        "        return n;\n",
        "    int uno = 0;\n",
        "    int dos  = 1;\n",
        "    for (int i = 0; i < n - 1; ++i) {\n",
        "        int temporal = uno;\n",
        "        uno = dos;\n",
        "        dos = temporal + dos;\n",
        "        if(dos>9){\n",
        "        \tdos=dos%10;\n",
        "        }\n",
        "    }\n",
        "    return dos;\n",
        "}\n",
        "\n",
        "int main() {\n",
        "    int n,ultimodigito;\n",
        "    cin >> n;\n",
        "    cout << grr(n)<< '\\n';\n",
        "    }"
      ],
      "execution_count": 4,
      "outputs": [
        {
          "output_type": "stream",
          "text": [
            "Writing LDLFN.cpp\n"
          ],
          "name": "stdout"
        }
      ]
    },
    {
      "cell_type": "code",
      "metadata": {
        "colab": {
          "base_uri": "https://localhost:8080/"
        },
        "id": "OpG_Y3xUvIA3",
        "outputId": "6b62407e-599b-49b1-a9f1-3eb1e982f7e5"
      },
      "source": [
        "!g++ LDLFN.cpp -o LDLFN\n",
        "!./LDLFN"
      ],
      "execution_count": 74,
      "outputs": [
        {
          "output_type": "stream",
          "text": [
            "3\n",
            "2\n"
          ],
          "name": "stdout"
        }
      ]
    },
    {
      "cell_type": "code",
      "metadata": {
        "colab": {
          "base_uri": "https://localhost:8080/"
        },
        "id": "hrv4VjnS9Boa",
        "outputId": "25d72e44-d879-495a-f69f-bfcc478173f3"
      },
      "source": [
        "!./LDLFN"
      ],
      "execution_count": 75,
      "outputs": [
        {
          "output_type": "stream",
          "text": [
            "331\n",
            "9\n"
          ],
          "name": "stdout"
        }
      ]
    },
    {
      "cell_type": "markdown",
      "metadata": {
        "id": "GdE2tFkGSswM"
      },
      "source": [
        "##Fibonacci Number "
      ]
    },
    {
      "cell_type": "code",
      "metadata": {
        "colab": {
          "base_uri": "https://localhost:8080/"
        },
        "id": "mzzJd0TAvnSB",
        "outputId": "8d1a4ec5-53f6-412b-a7b0-896566283641"
      },
      "source": [
        "%%writefile FN.cpp\n",
        "\n",
        "#include <iostream>\n",
        "#include <cassert>\n",
        "#include<math.h>\n",
        "\n",
        "long long fibonacci_fast(int n) {\n",
        "    \n",
        "    long long F[n+1];\n",
        "    F[0] = 0LL;\n",
        "    F[1] = 1LL;\n",
        "    for(int i =2; i<n+2; i++){\n",
        "     F[i] = (long long)(F[i-1]+F[i-2]);\n",
        "    } \n",
        "\n",
        "    return F[n];\n",
        "}\n",
        "\n",
        "int main() {\n",
        "    int n = 0;\n",
        "    std::cin >> n;\n",
        "\n",
        "    std::cout << fibonacci_fast(n) << '\\n';\n",
        "    return 0;\n",
        "}"
      ],
      "execution_count": 67,
      "outputs": [
        {
          "output_type": "stream",
          "text": [
            "Overwriting FN.cpp\n"
          ],
          "name": "stdout"
        }
      ]
    },
    {
      "cell_type": "code",
      "metadata": {
        "colab": {
          "base_uri": "https://localhost:8080/"
        },
        "id": "fZEu3HQfv1lL",
        "outputId": "6f50be1c-14fc-4ede-eb74-4a190472891d"
      },
      "source": [
        "!g++ FN.cpp -o FN\n",
        "!./FN"
      ],
      "execution_count": 68,
      "outputs": [
        {
          "output_type": "stream",
          "text": [
            "10\n",
            "55\n"
          ],
          "name": "stdout"
        }
      ]
    },
    {
      "cell_type": "markdown",
      "metadata": {
        "id": "YHBTuNC67h_N"
      },
      "source": [
        "##Last Digit of the Sum of Fibonacci Numbers Again"
      ]
    },
    {
      "cell_type": "code",
      "metadata": {
        "colab": {
          "base_uri": "https://localhost:8080/"
        },
        "id": "Ph1GeSv67kvx",
        "outputId": "c625227a-dccb-4843-ff62-b3156c6e96c9"
      },
      "source": [
        "%%writefile LDSSFN.cpp\n",
        "#include <iostream>\n",
        "\n",
        "using namespace std;\n",
        "\n",
        "int grr(long long int n) {\n",
        "    if (n <= 2)\n",
        "        return n;\n",
        "    int uno=1,dos=2,salida;\n",
        "    for (long int i=1; i<n-1;i++){\n",
        "    \tsalida=(uno+dos+1);\n",
        "    \tif(salida>=1000){salida=salida-1000;}\n",
        "    \tuno=dos;\n",
        "    \tdos=salida;\n",
        "    }\n",
        "    return(salida%10);\n",
        "}\n",
        "\n",
        "long long int sumfib(long long int n){\n",
        "\tlong long int k;\n",
        "    long long int secuencia[120];\n",
        "    for(int i=0;i<120;i++)\n",
        "    \t{\n",
        "    \tsecuencia[i]=grr(i);\n",
        "    \t}\n",
        "    k=n%120;\n",
        "    return(secuencia[k]);\n",
        "\t\n",
        "\t}\n",
        "\n",
        "int main() {\n",
        "\tlong long int x,y,total,parcial;\n",
        "    std::cin >> x>>y;\n",
        "    if(x==0){x=1;}\n",
        "    if(x>y){std::cout<<0;exit(0);}\n",
        "    total=sumfib(y);\n",
        "    parcial=sumfib(x-1);\n",
        "    if(total-parcial<0){total=total+10;}\n",
        "\n",
        "\tstd::cout<<total-parcial;\n",
        "   \n",
        "           return(0);\n",
        "    }"
      ],
      "execution_count": 80,
      "outputs": [
        {
          "output_type": "stream",
          "text": [
            "Overwriting LDSSFN.cpp\n"
          ],
          "name": "stdout"
        }
      ]
    },
    {
      "cell_type": "code",
      "metadata": {
        "colab": {
          "base_uri": "https://localhost:8080/"
        },
        "id": "iy3Af817716V",
        "outputId": "1cb49185-6a0d-40f9-d47e-c6cf889d305c"
      },
      "source": [
        "!g++ LDSSFN.cpp -o LDSSFN\n",
        "!./LDSSFN"
      ],
      "execution_count": 72,
      "outputs": [
        {
          "output_type": "stream",
          "text": [
            "3\n",
            "7\n",
            "1"
          ],
          "name": "stdout"
        }
      ]
    },
    {
      "cell_type": "code",
      "metadata": {
        "colab": {
          "base_uri": "https://localhost:8080/"
        },
        "id": "JC1eiVEX8Osd",
        "outputId": "b8383bdd-90d7-43dd-b564-572d0b997217"
      },
      "source": [
        "!./LDSSFN"
      ],
      "execution_count": 73,
      "outputs": [
        {
          "output_type": "stream",
          "text": [
            "10\n",
            "10\n",
            "5"
          ],
          "name": "stdout"
        }
      ]
    },
    {
      "cell_type": "code",
      "metadata": {
        "colab": {
          "base_uri": "https://localhost:8080/"
        },
        "id": "JTs06PVF-2LQ",
        "outputId": "b3eca227-eeb1-4342-b67e-eab292eb66eb"
      },
      "source": [
        "!./LDSSFN"
      ],
      "execution_count": 79,
      "outputs": [
        {
          "output_type": "stream",
          "text": [
            "10 200\n",
            "2"
          ],
          "name": "stdout"
        }
      ]
    },
    {
      "cell_type": "markdown",
      "metadata": {
        "id": "QFwFR_GgDKH9"
      },
      "source": [
        "##Greatest Common Divisor"
      ]
    },
    {
      "cell_type": "code",
      "metadata": {
        "colab": {
          "base_uri": "https://localhost:8080/"
        },
        "id": "yw2DirHFDOUQ",
        "outputId": "12f090bf-ba82-46c2-9e05-bcaf1514494b"
      },
      "source": [
        "%%writefile GCD.cpp\n",
        "#include <iostream>\n",
        "\n",
        "int gcd(int a, int b) {\n",
        "  if(b==0)\n",
        "   return a;\n",
        "  else\n",
        "   return gcd(b,a%b);\n",
        "}\n",
        "\n",
        "int main() {\n",
        "  int a, b;\n",
        "  std::cin >> a >> b;\n",
        "  std::cout << gcd(a, b) << std::endl;\n",
        "  return 0;\n",
        "}"
      ],
      "execution_count": 81,
      "outputs": [
        {
          "output_type": "stream",
          "text": [
            "Writing GCD.cpp\n"
          ],
          "name": "stdout"
        }
      ]
    },
    {
      "cell_type": "code",
      "metadata": {
        "colab": {
          "base_uri": "https://localhost:8080/"
        },
        "id": "dgYbHeetDd0t",
        "outputId": "f7b90240-1035-45e5-cbce-fa5cf9e663da"
      },
      "source": [
        "!g++ GCD.cpp -o GCD\n",
        "!./GCD"
      ],
      "execution_count": 82,
      "outputs": [
        {
          "output_type": "stream",
          "text": [
            "18\n",
            "35\n",
            "1\n"
          ],
          "name": "stdout"
        }
      ]
    },
    {
      "cell_type": "code",
      "metadata": {
        "colab": {
          "base_uri": "https://localhost:8080/"
        },
        "id": "jUCSr2yrDm-o",
        "outputId": "fcdd17ad-f414-495c-f180-5f321a13e734"
      },
      "source": [
        "!./GCD"
      ],
      "execution_count": 83,
      "outputs": [
        {
          "output_type": "stream",
          "text": [
            "28851538 1183019\n",
            "17657\n"
          ],
          "name": "stdout"
        }
      ]
    },
    {
      "cell_type": "markdown",
      "metadata": {
        "id": "cSAsu3YQD57z"
      },
      "source": [
        "##Fibonacci Number Again"
      ]
    },
    {
      "cell_type": "code",
      "metadata": {
        "colab": {
          "base_uri": "https://localhost:8080/"
        },
        "id": "IuNcs6DJD8i0",
        "outputId": "aa27cb6d-f8b9-4601-f06c-9cda8aeaa684"
      },
      "source": [
        "%%writefile FNA.cpp\n",
        "#include <iostream>\n",
        "\n",
        "using namespace std;\n",
        "\n",
        "long long int P(long long int m) {\n",
        "\tlong long int x = 0, y = 1, z = x + y; \n",
        "\tfor (int i = 0; i < m*m; i++) {\n",
        "\t\tz = (x + y) % m; \n",
        "\t\tx = y; \n",
        "\t\ty = z; \n",
        "\t\tif (x == 0 && y == 1)\n",
        "\t\t\treturn i + 1; \n",
        "\t}\n",
        "}\n",
        "int Solucionar(long long int n, long long int m) {\n",
        "\tlong long remain = n % P(m);\n",
        "\n",
        "\tlong long first = 0;\n",
        "\tlong long second = 1;\n",
        "\n",
        "\tlong long res = remain;\n",
        "\n",
        "\tfor (int i = 1; i < remain; i++) {\n",
        "\t\tres = (first + second) % m;\n",
        "\t\tfirst = second;\n",
        "\t\tsecond = res;\n",
        "\t}\n",
        "\n",
        "\treturn res % m;\n",
        "}\n",
        "int main() {\n",
        "\tlong long int n, m; \n",
        "\tcin >> n >> m; \n",
        "\tcout << Solucionar(n, m) << endl;\n",
        "}"
      ],
      "execution_count": 84,
      "outputs": [
        {
          "output_type": "stream",
          "text": [
            "Writing FNA.cpp\n"
          ],
          "name": "stdout"
        }
      ]
    },
    {
      "cell_type": "code",
      "metadata": {
        "colab": {
          "base_uri": "https://localhost:8080/"
        },
        "id": "Z3kYtlayELg9",
        "outputId": "3a01243d-bb44-4e17-f371-d62d77c03d5e"
      },
      "source": [
        "!g++ FNA.cpp -o FNA\n",
        "!./FNA"
      ],
      "execution_count": 87,
      "outputs": [
        {
          "output_type": "stream",
          "text": [
            "239 1000\n",
            "161\n"
          ],
          "name": "stdout"
        }
      ]
    },
    {
      "cell_type": "code",
      "metadata": {
        "colab": {
          "base_uri": "https://localhost:8080/"
        },
        "id": "488LJw1GEXEu",
        "outputId": "a0797c95-233d-4406-f185-b0ede2170368"
      },
      "source": [
        "!./FNA"
      ],
      "execution_count": 88,
      "outputs": [
        {
          "output_type": "stream",
          "text": [
            "2816213588 239\n",
            "151\n"
          ],
          "name": "stdout"
        }
      ]
    },
    {
      "cell_type": "markdown",
      "metadata": {
        "id": "8-hc6itOFYmA"
      },
      "source": [
        "##Last Digit of the Sum of Fibonacci Numbers"
      ]
    },
    {
      "cell_type": "code",
      "metadata": {
        "colab": {
          "base_uri": "https://localhost:8080/"
        },
        "id": "81VMmFDeFXwC",
        "outputId": "dbee0e2f-571c-41e1-c648-0a58c095dc2d"
      },
      "source": [
        "%%writefile LDSFN6.cpp\n",
        "#include <iostream>\n",
        "\n",
        "using namespace std;\n",
        "\n",
        "int grr(int n) {\n",
        "    if (n <= 1)\n",
        "        return n;\n",
        "    int uno = 0;\n",
        "    int dos  = 1;\n",
        "    for (int i = 0; i < n - 1; ++i) {\n",
        "        int temporal = uno;\n",
        "        uno = dos;\n",
        "        dos = temporal + dos;\n",
        "        if(dos>9){\n",
        "        \tdos=dos%10;\n",
        "        }\n",
        "    }\n",
        "    return dos;\n",
        "}\n",
        "\n",
        "int main() {\n",
        "    int n,ultimodigito;\n",
        "    cin >> n;\n",
        "    cout << grr(n)<< '\\n';\n",
        "    }"
      ],
      "execution_count": 89,
      "outputs": [
        {
          "output_type": "stream",
          "text": [
            "Writing LDSFN6.cpp\n"
          ],
          "name": "stdout"
        }
      ]
    },
    {
      "cell_type": "code",
      "metadata": {
        "colab": {
          "base_uri": "https://localhost:8080/"
        },
        "id": "1rpNhnL4GGgE",
        "outputId": "8679b5c0-8379-480e-9031-45553e983d48"
      },
      "source": [
        "!g++ LDSFN6.cpp -o LDSFN6\n",
        "!./LDSFN6"
      ],
      "execution_count": 93,
      "outputs": [
        {
          "output_type": "stream",
          "text": [
            "100\n",
            "5\n"
          ],
          "name": "stdout"
        }
      ]
    },
    {
      "cell_type": "markdown",
      "metadata": {
        "id": "nCI7UpV-IPdQ"
      },
      "source": [
        "##Resultados"
      ]
    },
    {
      "cell_type": "markdown",
      "metadata": {
        "id": "n4jsQucEISge"
      },
      "source": [
        "![Captura de pantalla -2021-07-14 08-06-36.png](data:image/png;base64,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)"
      ]
    }
  ]
}